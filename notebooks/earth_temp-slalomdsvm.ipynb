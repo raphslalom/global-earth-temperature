{
 "cells": [
  {
   "cell_type": "code",
   "execution_count": 1,
   "metadata": {},
   "outputs": [
    {
     "data": {
      "text/html": [
       "\n",
       "            <div>\n",
       "                <p><b>SparkSession - in-memory</b></p>\n",
       "                \n",
       "        <div>\n",
       "            <p><b>SparkContext</b></p>\n",
       "\n",
       "            <p><a href=\"http://slalomdsvm:4040\">Spark UI</a></p>\n",
       "\n",
       "            <dl>\n",
       "              <dt>Version</dt>\n",
       "                <dd><code>v2.3.2.3.1.4.0-315</code></dd>\n",
       "              <dt>Master</dt>\n",
       "                <dd><code>yarn</code></dd>\n",
       "              <dt>AppName</dt>\n",
       "                <dd><code>pyspark-shell</code></dd>\n",
       "            </dl>\n",
       "        </div>\n",
       "        \n",
       "            </div>\n",
       "        "
      ],
      "text/plain": [
       "<pyspark.sql.session.SparkSession at 0x7fc5b04b4be0>"
      ]
     },
     "execution_count": 1,
     "metadata": {},
     "output_type": "execute_result"
    }
   ],
   "source": [
    "import findspark\n",
    "findspark.init()\n",
    "\n",
    "# Create a spark-session (akin to what pyspark provides when it is started)\n",
    "from pyspark.sql import SparkSession\n",
    "spark = SparkSession.builder.getOrCreate()\n",
    "spark"
   ]
  },
  {
   "cell_type": "code",
   "execution_count": 2,
   "metadata": {},
   "outputs": [
    {
     "data": {
      "text/plain": [
       "[('spark.history.kerberos.keytab', 'none'),\n",
       " ('spark.eventLog.enabled', 'true'),\n",
       " ('spark.app.id', 'application_1596476144697_0003'),\n",
       " ('spark.driver.appUIAddress', 'http://slalomdsvm:4040'),\n",
       " ('spark.history.ui.port', '18081'),\n",
       " ('spark.driver.memory', '512M'),\n",
       " ('spark.driver.extraLibraryPath',\n",
       "  '/usr/hdp/current/hadoop-client/lib/native:/usr/hdp/current/hadoop-client/lib/native/Linux-amd64-64'),\n",
       " ('spark.history.fs.cleaner.interval', '7d'),\n",
       " ('spark.shuffle.io.serverThreads', '128'),\n",
       " ('spark.yarn.historyServer.address', 'slalomdsvm:18081'),\n",
       " ('spark.sql.streaming.streamingQueryListeners', ''),\n",
       " ('spark.executor.extraLibraryPath',\n",
       "  '/usr/hdp/current/hadoop-client/lib/native:/usr/hdp/current/hadoop-client/lib/native/Linux-amd64-64'),\n",
       " ('spark.sql.statistics.fallBackToHdfs', 'true'),\n",
       " ('spark.executorEnv.PYTHONPATH',\n",
       "  '{{PWD}}/pyspark.zip<CPS>{{PWD}}/py4j-0.10.7-src.zip'),\n",
       " ('spark.shuffle.file.buffer', '1m'),\n",
       " ('spark.history.provider',\n",
       "  'org.apache.spark.deploy.history.FsHistoryProvider'),\n",
       " ('spark.ui.proxyBase', '/proxy/application_1596476144697_0003'),\n",
       " ('spark.serializer.objectStreamReset', '100'),\n",
       " ('spark.sql.hive.convertMetastoreOrc', 'true'),\n",
       " ('spark.yarn.dist.files', ''),\n",
       " ('spark.submit.deployMode', 'client'),\n",
       " ('spark.sql.autoBroadcastJoinThreshold', '26214400'),\n",
       " ('spark.ui.filters',\n",
       "  'org.apache.hadoop.yarn.server.webproxy.amfilter.AmIpFilter'),\n",
       " ('spark.driver.extraClassPath', ''),\n",
       " ('spark.eventLog.dir', 'hdfs:///spark2-history/'),\n",
       " ('spark.sql.hive.metastore.jars',\n",
       "  '/usr/hdp/current/spark2-client/standalone-metastore/*'),\n",
       " ('spark.driver.port', '36820'),\n",
       " ('spark.yarn.queue', 'default'),\n",
       " ('spark.org.apache.hadoop.yarn.server.webproxy.amfilter.AmIpFilter.param.PROXY_HOSTS',\n",
       "  'slalomdsvm'),\n",
       " ('spark.executor.id', 'driver'),\n",
       " ('spark.executor.memory', '1G'),\n",
       " ('spark.sql.orc.impl', 'native'),\n",
       " ('spark.app.name', 'pyspark-shell'),\n",
       " ('spark.history.fs.cleaner.enabled', 'true'),\n",
       " ('spark.sql.queryExecutionListeners', ''),\n",
       " ('spark.org.apache.hadoop.yarn.server.webproxy.amfilter.AmIpFilter.param.PROXY_URI_BASES',\n",
       "  'http://slalomdsvm:8088/proxy/application_1596476144697_0003'),\n",
       " ('spark.history.fs.logDirectory', 'hdfs:///spark2-history/'),\n",
       " ('spark.master', 'yarn'),\n",
       " ('spark.io.compression.lz4.blockSize', '128kb'),\n",
       " ('spark.driver.host', 'slalomdsvm'),\n",
       " ('spark.history.kerberos.principal', 'none'),\n",
       " ('spark.history.fs.cleaner.maxAge', '90d'),\n",
       " ('spark.rdd.compress', 'True'),\n",
       " ('spark.sql.orc.filterPushdown', 'true'),\n",
       " ('spark.shuffle.io.backLog', '8192'),\n",
       " ('spark.extraListeners', ''),\n",
       " ('spark.unsafe.sorter.spill.reader.buffer.size', '1m'),\n",
       " ('spark.shuffle.unsafe.file.output.buffer', '5m'),\n",
       " ('spark.yarn.isPython', 'true'),\n",
       " ('spark.executor.cores', '1'),\n",
       " ('spark.executor.extraJavaOptions', '-XX:+UseNUMA'),\n",
       " ('spark.ui.showConsoleProgress', 'true'),\n",
       " ('spark.sql.warehouse.dir', '/apps/spark/warehouse'),\n",
       " ('spark.history.store.path', '/var/lib/spark2/shs_db'),\n",
       " ('spark.sql.hive.metastore.version', '3.0')]"
      ]
     },
     "execution_count": 2,
     "metadata": {},
     "output_type": "execute_result"
    }
   ],
   "source": [
    "# Access the Spark Context and config of our Spark application (--spark.driver.memory 4G was passed in command line)\n",
    "sc = spark.sparkContext\n",
    "sc.getConf().getAll()"
   ]
  },
  {
   "cell_type": "code",
   "execution_count": 3,
   "metadata": {},
   "outputs": [],
   "source": [
    "from pyspark.sql.functions import avg, stddev, count, col, desc, year, month, dayofmonth, collect_list, collect_set, udf, explode\n",
    "from pyspark.sql.types import ArrayType, StringType, IntegerType\n",
    "import hashlib\n",
    "from scipy.stats import norm\n",
    "import pandas as pd\n",
    "import datetime\n",
    "import pylab as plt\n",
    "from matplotlib.pyplot import figure\n",
    "from pandas.plotting import register_matplotlib_converters\n",
    "register_matplotlib_converters()\n",
    "%matplotlib inline"
   ]
  },
  {
   "cell_type": "markdown",
   "metadata": {},
   "source": [
    "## Load data"
   ]
  },
  {
   "cell_type": "code",
   "execution_count": 4,
   "metadata": {},
   "outputs": [],
   "source": [
    "path = \"/user/vagrant/data/earth-surface-temperature/csv/GlobalLandTemperaturesByMajorCity.csv\""
   ]
  },
  {
   "cell_type": "code",
   "execution_count": 5,
   "metadata": {},
   "outputs": [],
   "source": [
    "df = spark \\\n",
    ".read \\\n",
    ".option(\"header\", \"true\") \\\n",
    ".option(\"inferschema\", \"true\") \\\n",
    ".option(\"mode\", \"DROPMALFORMED\") \\\n",
    ".csv(path)"
   ]
  },
  {
   "cell_type": "code",
   "execution_count": 6,
   "metadata": {},
   "outputs": [
    {
     "data": {
      "text/plain": [
       "<bound method DataFrame.printSchema of DataFrame[dt: timestamp, AverageTemperature: double, AverageTemperatureUncertainty: double, City: string, Country: string, Latitude: string, Longitude: string]>"
      ]
     },
     "execution_count": 6,
     "metadata": {},
     "output_type": "execute_result"
    }
   ],
   "source": [
    "df.printSchema"
   ]
  },
  {
   "cell_type": "code",
   "execution_count": 7,
   "metadata": {},
   "outputs": [
    {
     "name": "stdout",
     "output_type": "stream",
     "text": [
      "+-------------------+------------------+-----------------------------+-------+-------------+--------+---------+\n",
      "|                 dt|AverageTemperature|AverageTemperatureUncertainty|   City|      Country|Latitude|Longitude|\n",
      "+-------------------+------------------+-----------------------------+-------+-------------+--------+---------+\n",
      "|1849-01-01 00:00:00|            26.704|                        1.435|Abidjan|Côte D'Ivoire|   5.63N|    3.23W|\n",
      "|1849-02-01 00:00:00|            27.434|                        1.362|Abidjan|Côte D'Ivoire|   5.63N|    3.23W|\n",
      "|1849-03-01 00:00:00|            28.101|                        1.612|Abidjan|Côte D'Ivoire|   5.63N|    3.23W|\n",
      "|1849-04-01 00:00:00|             26.14|           1.3869999999999998|Abidjan|Côte D'Ivoire|   5.63N|    3.23W|\n",
      "|1849-05-01 00:00:00|            25.427|                          1.2|Abidjan|Côte D'Ivoire|   5.63N|    3.23W|\n",
      "+-------------------+------------------+-----------------------------+-------+-------------+--------+---------+\n",
      "only showing top 5 rows\n",
      "\n"
     ]
    }
   ],
   "source": [
    "df.show(5)"
   ]
  },
  {
   "cell_type": "code",
   "execution_count": 8,
   "metadata": {},
   "outputs": [
    {
     "data": {
      "text/plain": [
       "239177"
      ]
     },
     "execution_count": 8,
     "metadata": {},
     "output_type": "execute_result"
    }
   ],
   "source": [
    "# Number of observations\n",
    "df.count()"
   ]
  },
  {
   "cell_type": "code",
   "execution_count": 9,
   "metadata": {},
   "outputs": [
    {
     "data": {
      "text/plain": [
       "100"
      ]
     },
     "execution_count": 9,
     "metadata": {},
     "output_type": "execute_result"
    }
   ],
   "source": [
    "# Number of unique cities\n",
    "df.select('City').distinct().count()"
   ]
  },
  {
   "cell_type": "markdown",
   "metadata": {},
   "source": [
    "## Add year month day columns"
   ]
  },
  {
   "cell_type": "code",
   "execution_count": 10,
   "metadata": {},
   "outputs": [],
   "source": [
    "df1 = df \\\n",
    ".withColumn('year', year(df.dt)) \\\n",
    ".withColumn('month', month(df.dt)) \\\n",
    ".withColumn('day', dayofmonth(df.dt))"
   ]
  },
  {
   "cell_type": "code",
   "execution_count": 11,
   "metadata": {},
   "outputs": [
    {
     "data": {
      "text/plain": [
       "<bound method DataFrame.printSchema of DataFrame[dt: timestamp, AverageTemperature: double, AverageTemperatureUncertainty: double, City: string, Country: string, Latitude: string, Longitude: string, year: int, month: int, day: int]>"
      ]
     },
     "execution_count": 11,
     "metadata": {},
     "output_type": "execute_result"
    }
   ],
   "source": [
    "df1.printSchema"
   ]
  },
  {
   "cell_type": "code",
   "execution_count": 12,
   "metadata": {},
   "outputs": [
    {
     "data": {
      "text/html": [
       "<div>\n",
       "<style scoped>\n",
       "    .dataframe tbody tr th:only-of-type {\n",
       "        vertical-align: middle;\n",
       "    }\n",
       "\n",
       "    .dataframe tbody tr th {\n",
       "        vertical-align: top;\n",
       "    }\n",
       "\n",
       "    .dataframe thead th {\n",
       "        text-align: right;\n",
       "    }\n",
       "</style>\n",
       "<table border=\"1\" class=\"dataframe\">\n",
       "  <thead>\n",
       "    <tr style=\"text-align: right;\">\n",
       "      <th></th>\n",
       "      <th>dt</th>\n",
       "      <th>AverageTemperature</th>\n",
       "      <th>AverageTemperatureUncertainty</th>\n",
       "      <th>City</th>\n",
       "      <th>Country</th>\n",
       "      <th>Latitude</th>\n",
       "      <th>Longitude</th>\n",
       "      <th>year</th>\n",
       "      <th>month</th>\n",
       "      <th>day</th>\n",
       "    </tr>\n",
       "  </thead>\n",
       "  <tbody>\n",
       "    <tr>\n",
       "      <th>0</th>\n",
       "      <td>1849-01-01 00:14:02</td>\n",
       "      <td>26.704</td>\n",
       "      <td>1.435</td>\n",
       "      <td>Abidjan</td>\n",
       "      <td>Côte D'Ivoire</td>\n",
       "      <td>5.63N</td>\n",
       "      <td>3.23W</td>\n",
       "      <td>1849</td>\n",
       "      <td>1</td>\n",
       "      <td>1</td>\n",
       "    </tr>\n",
       "    <tr>\n",
       "      <th>1</th>\n",
       "      <td>1849-02-01 00:14:02</td>\n",
       "      <td>27.434</td>\n",
       "      <td>1.362</td>\n",
       "      <td>Abidjan</td>\n",
       "      <td>Côte D'Ivoire</td>\n",
       "      <td>5.63N</td>\n",
       "      <td>3.23W</td>\n",
       "      <td>1849</td>\n",
       "      <td>2</td>\n",
       "      <td>1</td>\n",
       "    </tr>\n",
       "    <tr>\n",
       "      <th>2</th>\n",
       "      <td>1849-03-01 00:14:02</td>\n",
       "      <td>28.101</td>\n",
       "      <td>1.612</td>\n",
       "      <td>Abidjan</td>\n",
       "      <td>Côte D'Ivoire</td>\n",
       "      <td>5.63N</td>\n",
       "      <td>3.23W</td>\n",
       "      <td>1849</td>\n",
       "      <td>3</td>\n",
       "      <td>1</td>\n",
       "    </tr>\n",
       "    <tr>\n",
       "      <th>3</th>\n",
       "      <td>1849-04-01 00:14:02</td>\n",
       "      <td>26.140</td>\n",
       "      <td>1.387</td>\n",
       "      <td>Abidjan</td>\n",
       "      <td>Côte D'Ivoire</td>\n",
       "      <td>5.63N</td>\n",
       "      <td>3.23W</td>\n",
       "      <td>1849</td>\n",
       "      <td>4</td>\n",
       "      <td>1</td>\n",
       "    </tr>\n",
       "    <tr>\n",
       "      <th>4</th>\n",
       "      <td>1849-05-01 00:14:02</td>\n",
       "      <td>25.427</td>\n",
       "      <td>1.200</td>\n",
       "      <td>Abidjan</td>\n",
       "      <td>Côte D'Ivoire</td>\n",
       "      <td>5.63N</td>\n",
       "      <td>3.23W</td>\n",
       "      <td>1849</td>\n",
       "      <td>5</td>\n",
       "      <td>1</td>\n",
       "    </tr>\n",
       "  </tbody>\n",
       "</table>\n",
       "</div>"
      ],
      "text/plain": [
       "                   dt  AverageTemperature  AverageTemperatureUncertainty  \\\n",
       "0 1849-01-01 00:14:02              26.704                          1.435   \n",
       "1 1849-02-01 00:14:02              27.434                          1.362   \n",
       "2 1849-03-01 00:14:02              28.101                          1.612   \n",
       "3 1849-04-01 00:14:02              26.140                          1.387   \n",
       "4 1849-05-01 00:14:02              25.427                          1.200   \n",
       "\n",
       "      City        Country Latitude Longitude  year  month  day  \n",
       "0  Abidjan  Côte D'Ivoire    5.63N     3.23W  1849      1    1  \n",
       "1  Abidjan  Côte D'Ivoire    5.63N     3.23W  1849      2    1  \n",
       "2  Abidjan  Côte D'Ivoire    5.63N     3.23W  1849      3    1  \n",
       "3  Abidjan  Côte D'Ivoire    5.63N     3.23W  1849      4    1  \n",
       "4  Abidjan  Côte D'Ivoire    5.63N     3.23W  1849      5    1  "
      ]
     },
     "execution_count": 12,
     "metadata": {},
     "output_type": "execute_result"
    }
   ],
   "source": [
    "df1.limit(10).toPandas().head()"
   ]
  },
  {
   "cell_type": "markdown",
   "metadata": {},
   "source": [
    "## Ensure measurements are always made in the same set of cities"
   ]
  },
  {
   "cell_type": "code",
   "execution_count": 13,
   "metadata": {},
   "outputs": [
    {
     "data": {
      "text/html": [
       "<div>\n",
       "<style scoped>\n",
       "    .dataframe tbody tr th:only-of-type {\n",
       "        vertical-align: middle;\n",
       "    }\n",
       "\n",
       "    .dataframe tbody tr th {\n",
       "        vertical-align: top;\n",
       "    }\n",
       "\n",
       "    .dataframe thead th {\n",
       "        text-align: right;\n",
       "    }\n",
       "</style>\n",
       "<table border=\"1\" class=\"dataframe\">\n",
       "  <thead>\n",
       "    <tr style=\"text-align: right;\">\n",
       "      <th></th>\n",
       "      <th>City</th>\n",
       "      <th>n_obs</th>\n",
       "    </tr>\n",
       "  </thead>\n",
       "  <tbody>\n",
       "    <tr>\n",
       "      <th>0</th>\n",
       "      <td>Lima</td>\n",
       "      <td>1591</td>\n",
       "    </tr>\n",
       "    <tr>\n",
       "      <th>1</th>\n",
       "      <td>Umm Durman</td>\n",
       "      <td>1857</td>\n",
       "    </tr>\n",
       "    <tr>\n",
       "      <th>2</th>\n",
       "      <td>Durban</td>\n",
       "      <td>1881</td>\n",
       "    </tr>\n",
       "    <tr>\n",
       "      <th>3</th>\n",
       "      <td>Cape Town</td>\n",
       "      <td>1881</td>\n",
       "    </tr>\n",
       "    <tr>\n",
       "      <th>4</th>\n",
       "      <td>Luanda</td>\n",
       "      <td>1893</td>\n",
       "    </tr>\n",
       "    <tr>\n",
       "      <th>...</th>\n",
       "      <td>...</td>\n",
       "      <td>...</td>\n",
       "    </tr>\n",
       "    <tr>\n",
       "      <th>95</th>\n",
       "      <td>Toronto</td>\n",
       "      <td>3239</td>\n",
       "    </tr>\n",
       "    <tr>\n",
       "      <th>96</th>\n",
       "      <td>Rome</td>\n",
       "      <td>3239</td>\n",
       "    </tr>\n",
       "    <tr>\n",
       "      <th>97</th>\n",
       "      <td>Saint Petersburg</td>\n",
       "      <td>3239</td>\n",
       "    </tr>\n",
       "    <tr>\n",
       "      <th>98</th>\n",
       "      <td>Kiev</td>\n",
       "      <td>3239</td>\n",
       "    </tr>\n",
       "    <tr>\n",
       "      <th>99</th>\n",
       "      <td>New York</td>\n",
       "      <td>3239</td>\n",
       "    </tr>\n",
       "  </tbody>\n",
       "</table>\n",
       "<p>100 rows × 2 columns</p>\n",
       "</div>"
      ],
      "text/plain": [
       "                City  n_obs\n",
       "0               Lima   1591\n",
       "1         Umm Durman   1857\n",
       "2             Durban   1881\n",
       "3          Cape Town   1881\n",
       "4             Luanda   1893\n",
       "..               ...    ...\n",
       "95           Toronto   3239\n",
       "96              Rome   3239\n",
       "97  Saint Petersburg   3239\n",
       "98              Kiev   3239\n",
       "99          New York   3239\n",
       "\n",
       "[100 rows x 2 columns]"
      ]
     },
     "execution_count": 13,
     "metadata": {},
     "output_type": "execute_result"
    }
   ],
   "source": [
    "# The best list of cities is the list with the highest number of observations (the most dates)\n",
    "# Not all cities have the same number of observations\n",
    "# -> different dates will have observations coming from different cities\n",
    "\n",
    "df1 \\\n",
    ".groupBy('City') \\\n",
    ".agg(count('*').alias('n_obs')) \\\n",
    ".orderBy('n_obs') \\\n",
    ".toPandas()"
   ]
  },
  {
   "cell_type": "code",
   "execution_count": 14,
   "metadata": {
    "scrolled": false
   },
   "outputs": [
    {
     "data": {
      "text/html": [
       "<div>\n",
       "<style scoped>\n",
       "    .dataframe tbody tr th:only-of-type {\n",
       "        vertical-align: middle;\n",
       "    }\n",
       "\n",
       "    .dataframe tbody tr th {\n",
       "        vertical-align: top;\n",
       "    }\n",
       "\n",
       "    .dataframe thead th {\n",
       "        text-align: right;\n",
       "    }\n",
       "</style>\n",
       "<table border=\"1\" class=\"dataframe\">\n",
       "  <thead>\n",
       "    <tr style=\"text-align: right;\">\n",
       "      <th></th>\n",
       "      <th>year</th>\n",
       "      <th>month</th>\n",
       "      <th>cities_list</th>\n",
       "      <th>n_cities</th>\n",
       "      <th>cities_list_hash</th>\n",
       "    </tr>\n",
       "  </thead>\n",
       "  <tbody>\n",
       "    <tr>\n",
       "      <th>0</th>\n",
       "      <td>1769</td>\n",
       "      <td>8</td>\n",
       "      <td>[Ankara, Berlin, Casablanca, Chicago, Istanbul...</td>\n",
       "      <td>16</td>\n",
       "      <td>dcdcecfad72c53baf6057bf77f692253</td>\n",
       "    </tr>\n",
       "    <tr>\n",
       "      <th>1</th>\n",
       "      <td>1772</td>\n",
       "      <td>8</td>\n",
       "      <td>[Ankara, Berlin, Casablanca, Chicago, Istanbul...</td>\n",
       "      <td>16</td>\n",
       "      <td>dcdcecfad72c53baf6057bf77f692253</td>\n",
       "    </tr>\n",
       "    <tr>\n",
       "      <th>2</th>\n",
       "      <td>1796</td>\n",
       "      <td>10</td>\n",
       "      <td>[Ahmadabad, Aleppo, Alexandria, Ankara, Bangal...</td>\n",
       "      <td>35</td>\n",
       "      <td>95ca58190ebc109420f21f5d0fe87a1f</td>\n",
       "    </tr>\n",
       "    <tr>\n",
       "      <th>3</th>\n",
       "      <td>1859</td>\n",
       "      <td>3</td>\n",
       "      <td>[Abidjan, Addis Abeba, Ahmadabad, Aleppo, Alex...</td>\n",
       "      <td>99</td>\n",
       "      <td>a79fb4bbdc44e23a16b457d28563800a</td>\n",
       "    </tr>\n",
       "    <tr>\n",
       "      <th>4</th>\n",
       "      <td>1902</td>\n",
       "      <td>9</td>\n",
       "      <td>[Abidjan, Addis Abeba, Ahmadabad, Aleppo, Alex...</td>\n",
       "      <td>100</td>\n",
       "      <td>48f508dc3ebed92fb270726a2dc704c4</td>\n",
       "    </tr>\n",
       "    <tr>\n",
       "      <th>...</th>\n",
       "      <td>...</td>\n",
       "      <td>...</td>\n",
       "      <td>...</td>\n",
       "      <td>...</td>\n",
       "      <td>...</td>\n",
       "    </tr>\n",
       "    <tr>\n",
       "      <th>3234</th>\n",
       "      <td>1923</td>\n",
       "      <td>9</td>\n",
       "      <td>[Abidjan, Addis Abeba, Ahmadabad, Aleppo, Alex...</td>\n",
       "      <td>100</td>\n",
       "      <td>48f508dc3ebed92fb270726a2dc704c4</td>\n",
       "    </tr>\n",
       "    <tr>\n",
       "      <th>3235</th>\n",
       "      <td>1924</td>\n",
       "      <td>10</td>\n",
       "      <td>[Abidjan, Addis Abeba, Ahmadabad, Aleppo, Alex...</td>\n",
       "      <td>100</td>\n",
       "      <td>48f508dc3ebed92fb270726a2dc704c4</td>\n",
       "    </tr>\n",
       "    <tr>\n",
       "      <th>3236</th>\n",
       "      <td>1934</td>\n",
       "      <td>7</td>\n",
       "      <td>[Abidjan, Addis Abeba, Ahmadabad, Aleppo, Alex...</td>\n",
       "      <td>100</td>\n",
       "      <td>48f508dc3ebed92fb270726a2dc704c4</td>\n",
       "    </tr>\n",
       "    <tr>\n",
       "      <th>3237</th>\n",
       "      <td>1957</td>\n",
       "      <td>3</td>\n",
       "      <td>[Abidjan, Addis Abeba, Ahmadabad, Aleppo, Alex...</td>\n",
       "      <td>100</td>\n",
       "      <td>48f508dc3ebed92fb270726a2dc704c4</td>\n",
       "    </tr>\n",
       "    <tr>\n",
       "      <th>3238</th>\n",
       "      <td>1999</td>\n",
       "      <td>3</td>\n",
       "      <td>[Abidjan, Addis Abeba, Ahmadabad, Aleppo, Alex...</td>\n",
       "      <td>100</td>\n",
       "      <td>48f508dc3ebed92fb270726a2dc704c4</td>\n",
       "    </tr>\n",
       "  </tbody>\n",
       "</table>\n",
       "<p>3239 rows × 5 columns</p>\n",
       "</div>"
      ],
      "text/plain": [
       "      year  month                                        cities_list  \\\n",
       "0     1769      8  [Ankara, Berlin, Casablanca, Chicago, Istanbul...   \n",
       "1     1772      8  [Ankara, Berlin, Casablanca, Chicago, Istanbul...   \n",
       "2     1796     10  [Ahmadabad, Aleppo, Alexandria, Ankara, Bangal...   \n",
       "3     1859      3  [Abidjan, Addis Abeba, Ahmadabad, Aleppo, Alex...   \n",
       "4     1902      9  [Abidjan, Addis Abeba, Ahmadabad, Aleppo, Alex...   \n",
       "...    ...    ...                                                ...   \n",
       "3234  1923      9  [Abidjan, Addis Abeba, Ahmadabad, Aleppo, Alex...   \n",
       "3235  1924     10  [Abidjan, Addis Abeba, Ahmadabad, Aleppo, Alex...   \n",
       "3236  1934      7  [Abidjan, Addis Abeba, Ahmadabad, Aleppo, Alex...   \n",
       "3237  1957      3  [Abidjan, Addis Abeba, Ahmadabad, Aleppo, Alex...   \n",
       "3238  1999      3  [Abidjan, Addis Abeba, Ahmadabad, Aleppo, Alex...   \n",
       "\n",
       "      n_cities                  cities_list_hash  \n",
       "0           16  dcdcecfad72c53baf6057bf77f692253  \n",
       "1           16  dcdcecfad72c53baf6057bf77f692253  \n",
       "2           35  95ca58190ebc109420f21f5d0fe87a1f  \n",
       "3           99  a79fb4bbdc44e23a16b457d28563800a  \n",
       "4          100  48f508dc3ebed92fb270726a2dc704c4  \n",
       "...        ...                               ...  \n",
       "3234       100  48f508dc3ebed92fb270726a2dc704c4  \n",
       "3235       100  48f508dc3ebed92fb270726a2dc704c4  \n",
       "3236       100  48f508dc3ebed92fb270726a2dc704c4  \n",
       "3237       100  48f508dc3ebed92fb270726a2dc704c4  \n",
       "3238       100  48f508dc3ebed92fb270726a2dc704c4  \n",
       "\n",
       "[3239 rows x 5 columns]"
      ]
     },
     "execution_count": 14,
     "metadata": {},
     "output_type": "execute_result"
    }
   ],
   "source": [
    "# For each year-month:\n",
    "# Get the list of cities where temperature was measured at least once \n",
    "# (and some stats)\n",
    "\n",
    "udf_sort = udf(lambda x: sorted(list(x)), ArrayType(StringType()))\n",
    "udf_hash = udf(lambda x: hashlib.md5(''.join(x).encode()).hexdigest(), StringType())\n",
    "udf_len = udf(lambda x: len(x), IntegerType())\n",
    "\n",
    "df2 = df1 \\\n",
    ".groupBy('year', 'month') \\\n",
    ".agg(collect_set('City').alias('cities')) \\\n",
    ".withColumn('cities_list', udf_sort('cities')) \\\n",
    ".withColumn('n_cities', udf_len('cities_list')) \\\n",
    ".withColumn('cities_list_hash', udf_hash('cities_list')) \\\n",
    ".select('year', 'month', 'cities_list', 'n_cities', 'cities_list_hash')\n",
    "\n",
    "df2.toPandas()"
   ]
  },
  {
   "cell_type": "code",
   "execution_count": 15,
   "metadata": {},
   "outputs": [
    {
     "name": "stdout",
     "output_type": "stream",
     "text": [
      "+--------------------+-------+\n",
      "|    cities_list_hash|n_dates|\n",
      "+--------------------+-------+\n",
      "|48f508dc3ebed92fb...|   1591|\n",
      "|dcdcecfad72c53baf...|    340|\n",
      "|a79fb4bbdc44e23a1...|    266|\n",
      "|95ca58190ebc10942...|    153|\n",
      "|03c63afe971a95a21...|    110|\n",
      "|e5814a9e4e0006558...|     96|\n",
      "|3fa213fe9ccc15d5b...|     89|\n",
      "|21c7996faf39d0d68...|     64|\n",
      "|3db501e457352ce0a...|     56|\n",
      "|589238a4fcc9f6313...|     52|\n",
      "|9ab502753925eea62...|     48|\n",
      "|dea64fae8645c4117...|     48|\n",
      "|827d687876874a42b...|     41|\n",
      "|6aa686d985a7cd525...|     34|\n",
      "|239765e87b85e059c...|     32|\n",
      "|bc9151568e065fc13...|     24|\n",
      "|82dc0cb6bc80aacb1...|     24|\n",
      "|c3c70f62618fddf05...|     24|\n",
      "|eefa1303247b7dcff...|     24|\n",
      "|1c40fa183c285cc75...|     21|\n",
      "|bbf364c5f9704e21e...|     19|\n",
      "|35fd7231496c17076...|     12|\n",
      "|62fbce0139fc131c2...|     12|\n",
      "|cff7c39b94b514362...|     12|\n",
      "|9ef3c5fc92dd11c1e...|     12|\n",
      "|8e62ae06264f6a774...|     12|\n",
      "|d68d996e6490a998b...|     12|\n",
      "|4be6772cd6eb9707d...|      8|\n",
      "|1997673bca02f8d74...|      3|\n",
      "+--------------------+-------+\n",
      "\n"
     ]
    }
   ],
   "source": [
    "# Find the list of cities with the highest number of observations (\"best list of cities\")\n",
    "\n",
    "df3 = df2 \\\n",
    ".groupBy('cities_list_hash') \\\n",
    ".agg(count('*').alias('n_dates')) \\\n",
    ".orderBy(desc('n_dates'))\n",
    "\n",
    "df3.show(30)"
   ]
  },
  {
   "cell_type": "code",
   "execution_count": 16,
   "metadata": {},
   "outputs": [
    {
     "data": {
      "text/plain": [
       "'48f508dc3ebed92fb270726a2dc704c4'"
      ]
     },
     "execution_count": 16,
     "metadata": {},
     "output_type": "execute_result"
    }
   ],
   "source": [
    "best_cities_list_hash = df3.limit(1).select('cities_list_hash').collect()[0][0]\n",
    "best_cities_list_hash"
   ]
  },
  {
   "cell_type": "code",
   "execution_count": 17,
   "metadata": {},
   "outputs": [
    {
     "name": "stdout",
     "output_type": "stream",
     "text": [
      "+----+-----+--------------------+\n",
      "|year|month|         cities_list|\n",
      "+----+-----+--------------------+\n",
      "|1881|    3|[Abidjan, Addis A...|\n",
      "|1881|    4|[Abidjan, Addis A...|\n",
      "|1881|    5|[Abidjan, Addis A...|\n",
      "|1881|    6|[Abidjan, Addis A...|\n",
      "|1881|    7|[Abidjan, Addis A...|\n",
      "|1881|    8|[Abidjan, Addis A...|\n",
      "|1881|    9|[Abidjan, Addis A...|\n",
      "|1881|   10|[Abidjan, Addis A...|\n",
      "|1881|   11|[Abidjan, Addis A...|\n",
      "|1881|   12|[Abidjan, Addis A...|\n",
      "|1882|    1|[Abidjan, Addis A...|\n",
      "|1882|    2|[Abidjan, Addis A...|\n",
      "|1882|    3|[Abidjan, Addis A...|\n",
      "|1882|    4|[Abidjan, Addis A...|\n",
      "|1882|    5|[Abidjan, Addis A...|\n",
      "|1882|    6|[Abidjan, Addis A...|\n",
      "|1882|    7|[Abidjan, Addis A...|\n",
      "|1882|    8|[Abidjan, Addis A...|\n",
      "|1882|    9|[Abidjan, Addis A...|\n",
      "|1882|   10|[Abidjan, Addis A...|\n",
      "+----+-----+--------------------+\n",
      "only showing top 20 rows\n",
      "\n"
     ]
    }
   ],
   "source": [
    "# Get the year-month combinartions\n",
    "# for which we have observations for the best list of cities\n",
    "df3 = df2 \\\n",
    ".filter(df2.cities_list_hash == best_cities_list_hash) \\\n",
    ".select('year', 'month', 'cities_list') \\\n",
    ".orderBy('year', 'month')\n",
    "\n",
    "df3.show()"
   ]
  },
  {
   "cell_type": "markdown",
   "metadata": {},
   "source": [
    "## Ensure observations are always made during the same months"
   ]
  },
  {
   "cell_type": "code",
   "execution_count": 18,
   "metadata": {},
   "outputs": [
    {
     "data": {
      "text/html": [
       "<div>\n",
       "<style scoped>\n",
       "    .dataframe tbody tr th:only-of-type {\n",
       "        vertical-align: middle;\n",
       "    }\n",
       "\n",
       "    .dataframe tbody tr th {\n",
       "        vertical-align: top;\n",
       "    }\n",
       "\n",
       "    .dataframe thead th {\n",
       "        text-align: right;\n",
       "    }\n",
       "</style>\n",
       "<table border=\"1\" class=\"dataframe\">\n",
       "  <thead>\n",
       "    <tr style=\"text-align: right;\">\n",
       "      <th></th>\n",
       "      <th>year</th>\n",
       "      <th>months_list</th>\n",
       "      <th>n_months</th>\n",
       "      <th>months_list_hash</th>\n",
       "    </tr>\n",
       "  </thead>\n",
       "  <tbody>\n",
       "    <tr>\n",
       "      <th>0</th>\n",
       "      <td>1928</td>\n",
       "      <td>[1, 10, 11, 12, 2, 3, 4, 5, 6, 7, 8, 9]</td>\n",
       "      <td>12</td>\n",
       "      <td>e87c79069cf5f01b76762c3ef80f164a</td>\n",
       "    </tr>\n",
       "    <tr>\n",
       "      <th>1</th>\n",
       "      <td>1960</td>\n",
       "      <td>[1, 10, 11, 12, 2, 3, 4, 5, 6, 7, 8, 9]</td>\n",
       "      <td>12</td>\n",
       "      <td>e87c79069cf5f01b76762c3ef80f164a</td>\n",
       "    </tr>\n",
       "    <tr>\n",
       "      <th>2</th>\n",
       "      <td>1993</td>\n",
       "      <td>[1, 10, 11, 12, 2, 3, 4, 5, 6, 7, 8, 9]</td>\n",
       "      <td>12</td>\n",
       "      <td>e87c79069cf5f01b76762c3ef80f164a</td>\n",
       "    </tr>\n",
       "    <tr>\n",
       "      <th>3</th>\n",
       "      <td>1938</td>\n",
       "      <td>[1, 10, 11, 12, 2, 3, 4, 5, 6, 7, 8, 9]</td>\n",
       "      <td>12</td>\n",
       "      <td>e87c79069cf5f01b76762c3ef80f164a</td>\n",
       "    </tr>\n",
       "    <tr>\n",
       "      <th>4</th>\n",
       "      <td>1933</td>\n",
       "      <td>[1, 10, 11, 12, 2, 3, 4, 5, 6, 7, 8, 9]</td>\n",
       "      <td>12</td>\n",
       "      <td>e87c79069cf5f01b76762c3ef80f164a</td>\n",
       "    </tr>\n",
       "    <tr>\n",
       "      <th>...</th>\n",
       "      <td>...</td>\n",
       "      <td>...</td>\n",
       "      <td>...</td>\n",
       "      <td>...</td>\n",
       "    </tr>\n",
       "    <tr>\n",
       "      <th>128</th>\n",
       "      <td>1975</td>\n",
       "      <td>[1, 10, 11, 12, 2, 3, 4, 5, 6, 7, 8, 9]</td>\n",
       "      <td>12</td>\n",
       "      <td>e87c79069cf5f01b76762c3ef80f164a</td>\n",
       "    </tr>\n",
       "    <tr>\n",
       "      <th>129</th>\n",
       "      <td>1986</td>\n",
       "      <td>[1, 10, 11, 12, 2, 3, 4, 5, 6, 7, 8, 9]</td>\n",
       "      <td>12</td>\n",
       "      <td>e87c79069cf5f01b76762c3ef80f164a</td>\n",
       "    </tr>\n",
       "    <tr>\n",
       "      <th>130</th>\n",
       "      <td>1980</td>\n",
       "      <td>[1, 10, 11, 12, 2, 3, 4, 5, 6, 7, 8, 9]</td>\n",
       "      <td>12</td>\n",
       "      <td>e87c79069cf5f01b76762c3ef80f164a</td>\n",
       "    </tr>\n",
       "    <tr>\n",
       "      <th>131</th>\n",
       "      <td>1920</td>\n",
       "      <td>[1, 10, 11, 12, 2, 3, 4, 5, 6, 7, 8, 9]</td>\n",
       "      <td>12</td>\n",
       "      <td>e87c79069cf5f01b76762c3ef80f164a</td>\n",
       "    </tr>\n",
       "    <tr>\n",
       "      <th>132</th>\n",
       "      <td>1976</td>\n",
       "      <td>[1, 10, 11, 12, 2, 3, 4, 5, 6, 7, 8, 9]</td>\n",
       "      <td>12</td>\n",
       "      <td>e87c79069cf5f01b76762c3ef80f164a</td>\n",
       "    </tr>\n",
       "  </tbody>\n",
       "</table>\n",
       "<p>133 rows × 4 columns</p>\n",
       "</div>"
      ],
      "text/plain": [
       "     year                              months_list  n_months  \\\n",
       "0    1928  [1, 10, 11, 12, 2, 3, 4, 5, 6, 7, 8, 9]        12   \n",
       "1    1960  [1, 10, 11, 12, 2, 3, 4, 5, 6, 7, 8, 9]        12   \n",
       "2    1993  [1, 10, 11, 12, 2, 3, 4, 5, 6, 7, 8, 9]        12   \n",
       "3    1938  [1, 10, 11, 12, 2, 3, 4, 5, 6, 7, 8, 9]        12   \n",
       "4    1933  [1, 10, 11, 12, 2, 3, 4, 5, 6, 7, 8, 9]        12   \n",
       "..    ...                                      ...       ...   \n",
       "128  1975  [1, 10, 11, 12, 2, 3, 4, 5, 6, 7, 8, 9]        12   \n",
       "129  1986  [1, 10, 11, 12, 2, 3, 4, 5, 6, 7, 8, 9]        12   \n",
       "130  1980  [1, 10, 11, 12, 2, 3, 4, 5, 6, 7, 8, 9]        12   \n",
       "131  1920  [1, 10, 11, 12, 2, 3, 4, 5, 6, 7, 8, 9]        12   \n",
       "132  1976  [1, 10, 11, 12, 2, 3, 4, 5, 6, 7, 8, 9]        12   \n",
       "\n",
       "                     months_list_hash  \n",
       "0    e87c79069cf5f01b76762c3ef80f164a  \n",
       "1    e87c79069cf5f01b76762c3ef80f164a  \n",
       "2    e87c79069cf5f01b76762c3ef80f164a  \n",
       "3    e87c79069cf5f01b76762c3ef80f164a  \n",
       "4    e87c79069cf5f01b76762c3ef80f164a  \n",
       "..                                ...  \n",
       "128  e87c79069cf5f01b76762c3ef80f164a  \n",
       "129  e87c79069cf5f01b76762c3ef80f164a  \n",
       "130  e87c79069cf5f01b76762c3ef80f164a  \n",
       "131  e87c79069cf5f01b76762c3ef80f164a  \n",
       "132  e87c79069cf5f01b76762c3ef80f164a  \n",
       "\n",
       "[133 rows x 4 columns]"
      ]
     },
     "execution_count": 18,
     "metadata": {},
     "output_type": "execute_result"
    }
   ],
   "source": [
    "# We have selected a list of cities which all have one observation per year-month combo\n",
    "# Our goal is to average the observations for each year:\n",
    "# we need to ensure the observations are always made in the same months\n",
    "\n",
    "# Similarly to the best cities, let's find the best set of months\n",
    "\n",
    "udf_tostr = udf(lambda x: str(x), StringType())\n",
    "udf_sort = udf(lambda x: sorted(list(x)), ArrayType(StringType()))\n",
    "udf_hash = udf(lambda x: hashlib.md5(''.join(x).encode()).hexdigest(), StringType())\n",
    "udf_len = udf(lambda x: len(x), IntegerType())\n",
    "\n",
    "df4 = df3 \\\n",
    ".withColumn('month_str', udf_tostr('month')) \\\n",
    ".groupBy('year', 'cities_list') \\\n",
    ".agg(collect_set('month_str').alias('months_set')) \\\n",
    ".withColumn('months_list', udf_sort('months_set')) \\\n",
    ".withColumn('n_months', udf_len('months_list')) \\\n",
    ".withColumn('months_list_hash', udf_hash('months_list')) \\\n",
    ".select('year', 'months_list', 'n_months', 'months_list_hash')\n",
    "\n",
    "df4.toPandas()"
   ]
  },
  {
   "cell_type": "code",
   "execution_count": 19,
   "metadata": {},
   "outputs": [
    {
     "name": "stdout",
     "output_type": "stream",
     "text": [
      "+--------------------+-------+\n",
      "|    months_list_hash|n_dates|\n",
      "+--------------------+-------+\n",
      "|e87c79069cf5f01b7...|    131|\n",
      "|25f9e794323b45388...|      1|\n",
      "|5947356505bfd333f...|      1|\n",
      "+--------------------+-------+\n",
      "\n"
     ]
    }
   ],
   "source": [
    "df5 = df4 \\\n",
    ".groupBy('months_list_hash') \\\n",
    ".agg(count('*').alias('n_dates')) \\\n",
    ".orderBy(desc('n_dates'))\n",
    "\n",
    "df5.show(30)"
   ]
  },
  {
   "cell_type": "code",
   "execution_count": 20,
   "metadata": {},
   "outputs": [
    {
     "data": {
      "text/plain": [
       "'e87c79069cf5f01b76762c3ef80f164a'"
      ]
     },
     "execution_count": 20,
     "metadata": {},
     "output_type": "execute_result"
    }
   ],
   "source": [
    "best_months_list_hash = df5.limit(1).select('months_list_hash').collect()[0][0]\n",
    "best_months_list_hash"
   ]
  },
  {
   "cell_type": "code",
   "execution_count": 21,
   "metadata": {},
   "outputs": [
    {
     "name": "stdout",
     "output_type": "stream",
     "text": [
      "+----+\n",
      "|year|\n",
      "+----+\n",
      "|1882|\n",
      "|1883|\n",
      "|1884|\n",
      "|1885|\n",
      "|1886|\n",
      "|1887|\n",
      "|1888|\n",
      "|1889|\n",
      "|1890|\n",
      "|1891|\n",
      "|1892|\n",
      "|1893|\n",
      "|1894|\n",
      "|1895|\n",
      "|1896|\n",
      "|1897|\n",
      "|1898|\n",
      "|1899|\n",
      "|1900|\n",
      "|1901|\n",
      "+----+\n",
      "only showing top 20 rows\n",
      "\n"
     ]
    }
   ],
   "source": [
    "# Get the years with the best list of months\n",
    "df6 = df4 \\\n",
    ".filter(df4.months_list_hash == best_months_list_hash) \\\n",
    ".select('year') \\\n",
    ".orderBy('year')\n",
    "\n",
    "df6.show()"
   ]
  },
  {
   "cell_type": "markdown",
   "metadata": {},
   "source": [
    "## Finalize DF of valid dates and locations of observations"
   ]
  },
  {
   "cell_type": "code",
   "execution_count": 22,
   "metadata": {},
   "outputs": [
    {
     "data": {
      "text/plain": [
       "1591"
      ]
     },
     "execution_count": 22,
     "metadata": {},
     "output_type": "execute_result"
    }
   ],
   "source": [
    "df3.count()"
   ]
  },
  {
   "cell_type": "code",
   "execution_count": 23,
   "metadata": {},
   "outputs": [
    {
     "name": "stdout",
     "output_type": "stream",
     "text": [
      "+----+-----+--------------------+\n",
      "|year|month|         cities_list|\n",
      "+----+-----+--------------------+\n",
      "|1882|    1|[Abidjan, Addis A...|\n",
      "|1882|    2|[Abidjan, Addis A...|\n",
      "|1882|    3|[Abidjan, Addis A...|\n",
      "|1882|    4|[Abidjan, Addis A...|\n",
      "|1882|    5|[Abidjan, Addis A...|\n",
      "|1882|    6|[Abidjan, Addis A...|\n",
      "|1882|    7|[Abidjan, Addis A...|\n",
      "|1882|    8|[Abidjan, Addis A...|\n",
      "|1882|    9|[Abidjan, Addis A...|\n",
      "|1882|   10|[Abidjan, Addis A...|\n",
      "|1882|   11|[Abidjan, Addis A...|\n",
      "|1882|   12|[Abidjan, Addis A...|\n",
      "|1883|    1|[Abidjan, Addis A...|\n",
      "|1883|    2|[Abidjan, Addis A...|\n",
      "|1883|    3|[Abidjan, Addis A...|\n",
      "|1883|    4|[Abidjan, Addis A...|\n",
      "|1883|    5|[Abidjan, Addis A...|\n",
      "|1883|    6|[Abidjan, Addis A...|\n",
      "|1883|    7|[Abidjan, Addis A...|\n",
      "|1883|    8|[Abidjan, Addis A...|\n",
      "+----+-----+--------------------+\n",
      "only showing top 20 rows\n",
      "\n"
     ]
    }
   ],
   "source": [
    "# Keep only the years for which we have the \"best list of months\"\n",
    "df7 = df3 \\\n",
    ".join(df6, 'year', how = 'inner')\n",
    "\n",
    "df7.show()"
   ]
  },
  {
   "cell_type": "code",
   "execution_count": 24,
   "metadata": {},
   "outputs": [
    {
     "data": {
      "text/plain": [
       "1572"
      ]
     },
     "execution_count": 24,
     "metadata": {},
     "output_type": "execute_result"
    }
   ],
   "source": [
    "df7.count()"
   ]
  },
  {
   "cell_type": "code",
   "execution_count": 25,
   "metadata": {},
   "outputs": [
    {
     "name": "stdout",
     "output_type": "stream",
     "text": [
      "+----+-----+--------------+\n",
      "|year|month|          City|\n",
      "+----+-----+--------------+\n",
      "|1882|    1|       Abidjan|\n",
      "|1882|    1|   Addis Abeba|\n",
      "|1882|    1|     Ahmadabad|\n",
      "|1882|    1|        Aleppo|\n",
      "|1882|    1|    Alexandria|\n",
      "|1882|    1|        Ankara|\n",
      "|1882|    1|       Baghdad|\n",
      "|1882|    1|     Bangalore|\n",
      "|1882|    1|       Bangkok|\n",
      "|1882|    1|Belo Horizonte|\n",
      "|1882|    1|        Berlin|\n",
      "|1882|    1|        Bogotá|\n",
      "|1882|    1|        Bombay|\n",
      "|1882|    1|      Brasília|\n",
      "|1882|    1|         Cairo|\n",
      "|1882|    1|      Calcutta|\n",
      "|1882|    1|          Cali|\n",
      "|1882|    1|     Cape Town|\n",
      "|1882|    1|    Casablanca|\n",
      "|1882|    1|     Changchun|\n",
      "+----+-----+--------------+\n",
      "only showing top 20 rows\n",
      "\n"
     ]
    }
   ],
   "source": [
    "# Get a dataframe with all the valid combos\n",
    "# of year, month and city\n",
    "df8 = df7.select('year', 'month', explode('cities_list').alias('City'))\n",
    "\n",
    "df8.show()"
   ]
  },
  {
   "cell_type": "markdown",
   "metadata": {},
   "source": [
    "## Analytics and plots"
   ]
  },
  {
   "cell_type": "code",
   "execution_count": 26,
   "metadata": {},
   "outputs": [
    {
     "name": "stdout",
     "output_type": "stream",
     "text": [
      "+-------------------+----+-----+--------------+-------------+-------------------+-----------------------------+\n",
      "|                 dt|year|month|          City|      Country| AverageTemperature|AverageTemperatureUncertainty|\n",
      "+-------------------+----+-----+--------------+-------------+-------------------+-----------------------------+\n",
      "|1882-01-01 00:00:00|1882|    1|       Abidjan|Côte D'Ivoire| 26.756999999999998|                        1.233|\n",
      "|1882-01-01 00:00:00|1882|    1|   Addis Abeba|     Ethiopia|             17.582|                        1.319|\n",
      "|1882-01-01 00:00:00|1882|    1|     Ahmadabad|        India| 20.593000000000004|                        0.878|\n",
      "|1882-01-01 00:00:00|1882|    1|        Aleppo|        Syria|               3.82|                        2.069|\n",
      "|1882-01-01 00:00:00|1882|    1|    Alexandria|        Egypt|             12.435|                        1.086|\n",
      "|1882-01-01 00:00:00|1882|    1|        Ankara|       Turkey|-2.6950000000000003|                         1.83|\n",
      "|1882-01-01 00:00:00|1882|    1|       Baghdad|         Iraq|               8.23|                        1.285|\n",
      "|1882-01-01 00:00:00|1882|    1|     Bangalore|        India|              22.37|                         0.87|\n",
      "|1882-01-01 00:00:00|1882|    1|       Bangkok|     Thailand|             24.665|                          0.7|\n",
      "|1882-01-01 00:00:00|1882|    1|Belo Horizonte|       Brazil| 22.023000000000003|                        2.794|\n",
      "|1882-01-01 00:00:00|1882|    1|        Berlin|      Germany| 1.0510000000000002|                        0.942|\n",
      "|1882-01-01 00:00:00|1882|    1|        Bogotá|     Colombia|             19.253|                        1.247|\n",
      "|1882-01-01 00:00:00|1882|    1|        Bombay|        India| 25.066999999999997|                         0.91|\n",
      "|1882-01-01 00:00:00|1882|    1|      Brasília|       Brazil| 21.910999999999998|                        1.974|\n",
      "|1882-01-01 00:00:00|1882|    1|         Cairo|        Egypt|             11.681|                        1.554|\n",
      "|1882-01-01 00:00:00|1882|    1|      Calcutta|        India|             19.554|           0.6920000000000001|\n",
      "|1882-01-01 00:00:00|1882|    1|          Cali|     Colombia| 21.171000000000006|                        1.253|\n",
      "|1882-01-01 00:00:00|1882|    1|     Cape Town| South Africa|             20.698|                        1.214|\n",
      "|1882-01-01 00:00:00|1882|    1|    Casablanca|      Morocco|              9.755|                        1.401|\n",
      "|1882-01-01 00:00:00|1882|    1|     Changchun|        China|-14.883000000000004|                        1.694|\n",
      "+-------------------+----+-----+--------------+-------------+-------------------+-----------------------------+\n",
      "only showing top 20 rows\n",
      "\n"
     ]
    }
   ],
   "source": [
    "# Filter the orginal data \n",
    "# to keep only the selected year-month-city combos\n",
    "\n",
    "# Note: for some reason df1.join(df8, ...) does not work.\n",
    "\n",
    "df9 = df8 \\\n",
    ".join(df1, ['year', 'month', 'City'], how = 'inner') \\\n",
    ".select('dt', 'year', 'month', 'City', 'Country', 'AverageTemperature', 'AverageTemperatureUncertainty')\n",
    "\n",
    "df9.show()"
   ]
  },
  {
   "cell_type": "markdown",
   "metadata": {},
   "source": [
    "## Summary statistics per year"
   ]
  },
  {
   "cell_type": "code",
   "execution_count": 27,
   "metadata": {},
   "outputs": [
    {
     "name": "stdout",
     "output_type": "stream",
     "text": [
      "+----+------------------+------------------+-----+\n",
      "|year|          temp_avg|       temp_stddev|n_obs|\n",
      "+----+------------------+------------------+-----+\n",
      "|1882|18.272409207161132|  9.50084419069272| 1200|\n",
      "|1883|18.093464224872246| 9.899778079956812| 1200|\n",
      "|1884|17.807999999999993| 9.718665688248104| 1200|\n",
      "|1885|17.837688888888888| 9.942854655135987| 1200|\n",
      "|1886|18.186228279386718| 9.770089904780974| 1200|\n",
      "|1887|18.238346088435367| 9.760117121818272| 1200|\n",
      "|1888|18.269254251700694|10.003167304238074| 1200|\n",
      "|1889|18.553466329966337| 9.933164512958289| 1200|\n",
      "|1890|18.503056444818874| 9.513457042607227| 1200|\n",
      "|1891|18.474513333333327| 9.589300889504235| 1200|\n",
      "|1892| 18.40668916666667| 9.897445947623108| 1200|\n",
      "|1893|18.036146666666674| 9.927529091036035| 1200|\n",
      "|1894|18.533093333333333| 9.504479302253294| 1200|\n",
      "|1895|18.417725833333336| 9.836253638727014| 1200|\n",
      "|1896|18.641295833333334| 9.851173754698996| 1200|\n",
      "|1897|18.668718333333334|  9.88620718219943| 1200|\n",
      "|1898|18.779869782971623| 9.519489546511261| 1200|\n",
      "|1899|18.806063333333327| 9.562905702620931| 1200|\n",
      "|1900| 18.86027916666668| 9.766773394781929| 1200|\n",
      "|1901|18.744460833333335| 9.816474989840009| 1200|\n",
      "|1902|18.788060000000005| 9.569757781751909| 1200|\n",
      "|1903|18.574871666666652| 9.512071807722014| 1200|\n",
      "|1904|18.339621666666655| 9.702033249849306| 1200|\n",
      "|1905|18.453006666666667| 9.758896007627877| 1200|\n",
      "|1906| 18.58455249999998| 9.711208541509693| 1200|\n",
      "|1907|18.311078333333327| 9.766482120226357| 1200|\n",
      "|1908|18.428550000000005|  9.78555535481602| 1200|\n",
      "|1909|18.475870833333314| 9.691614228863884| 1200|\n",
      "|1910| 18.39935416666668| 9.641021095395832| 1200|\n",
      "|1911|18.455724166666663| 9.761869284091148| 1200|\n",
      "|1912|18.499176666666685|  9.81970164443793| 1200|\n",
      "|1913|18.566866666666655| 9.522588022666428| 1200|\n",
      "|1914|18.843843333333325| 9.499436900152146| 1200|\n",
      "|1915|          18.84971| 9.832682889895533| 1200|\n",
      "|1916|18.599710833333333|   9.6101375192987| 1200|\n",
      "|1917|18.164886666666664|  9.96389138623993| 1200|\n",
      "|1918|18.490182500000003| 9.652772971495105| 1200|\n",
      "|1919|18.764819166666665| 9.728335859674637| 1200|\n",
      "|1920| 18.69816416666669| 9.697919221577358| 1200|\n",
      "|1921|18.803862500000008| 9.561868178925758| 1200|\n",
      "|1922|18.744337499999997| 9.757741809948568| 1200|\n",
      "|1923|18.656429166666676| 9.696643092037643| 1200|\n",
      "|1924| 18.68272166666667| 9.872962950167327| 1200|\n",
      "|1925| 18.65626333333333| 9.575055803162908| 1200|\n",
      "|1926| 18.80662166666666| 9.714982237679546| 1200|\n",
      "|1927|18.816360000000007| 9.704778995587393| 1200|\n",
      "|1928| 18.90769749999998| 9.750923402016195| 1200|\n",
      "|1929|18.698242499999996| 9.990203496773704| 1200|\n",
      "|1930|18.917603333333318| 9.555747459456686| 1200|\n",
      "|1931| 18.89849333333333| 9.866444921100328| 1200|\n",
      "|1932|18.915589166666674| 9.558971008133028| 1200|\n",
      "|1933|18.600475000000014| 9.797599468347348| 1200|\n",
      "|1934|18.751050833333338| 9.689920666101736| 1200|\n",
      "|1935|18.844924166666672| 9.617991074214462| 1200|\n",
      "|1936|18.752038333333324| 9.847708653707432| 1200|\n",
      "|1937|18.955430833333335| 9.642135825528877| 1200|\n",
      "|1938|18.986128333333347|  9.58760294583947| 1200|\n",
      "|1939| 18.99371750000002| 9.521662790689977| 1200|\n",
      "|1940|18.882960833333325| 9.811420309926978| 1200|\n",
      "|1941|19.188982499999998| 9.876958756068827| 1200|\n",
      "|1942|18.968859999999996|  9.96461546188074| 1200|\n",
      "|1943|18.854368333333348| 9.533533109798649| 1200|\n",
      "|1944|18.901619166666652|  9.69606842117753| 1200|\n",
      "|1945|18.784205833333317| 9.827575892528241| 1200|\n",
      "|1946|19.132812500000007| 9.599099597614066| 1200|\n",
      "|1947|18.969314999999995|10.052375600911116| 1200|\n",
      "|1948| 19.02407583333334| 9.529315413779488| 1200|\n",
      "|1949|19.010680000000015| 9.443919033423475| 1200|\n",
      "|1950| 18.78464583333333| 9.597956468733976| 1200|\n",
      "|1951|18.996792499999987| 9.638488713054041| 1200|\n",
      "|1952| 19.06860666666667| 9.737386138622252| 1200|\n",
      "|1953|19.135037499999996| 9.660239684227532| 1200|\n",
      "|1954| 18.86268583333331| 9.779853482998783| 1200|\n",
      "|1955|18.950874166666694| 9.566374705664296| 1200|\n",
      "|1956|18.480925833333362|  9.99997750924907| 1200|\n",
      "|1957|18.857897499999993| 9.635463708581607| 1200|\n",
      "|1958| 19.19379583333332| 9.692721057167564| 1200|\n",
      "|1959|          19.13737| 9.556855051314034| 1200|\n",
      "|1960|19.144858333333335| 9.536522249424856| 1200|\n",
      "|1961|19.145021666666654| 9.391180676479356| 1200|\n",
      "|1962| 18.94944166666666| 9.578669610625571| 1200|\n",
      "|1963|18.996930833333323| 9.868370162583622| 1200|\n",
      "|1964|18.806191666666656| 9.702622463823557| 1200|\n",
      "|1965|18.852835833333337| 9.626360854183778| 1200|\n",
      "|1966| 19.17875416666668| 9.611586806012168| 1200|\n",
      "|1967|18.794326666666656| 9.771896864234014| 1200|\n",
      "|1968|18.817781666666683| 9.641177881174286| 1200|\n",
      "|1969|18.960338333333357|10.075714935266104| 1200|\n",
      "|1970| 18.96595750000001| 9.785201560707886| 1200|\n",
      "|1971| 18.77789833333335| 9.487122498457987| 1200|\n",
      "|1972|18.932126666666676| 9.776101480605044| 1200|\n",
      "|1973|19.206823333333354| 9.584630471394465| 1200|\n",
      "|1974|18.837208333333336| 9.592489700914415| 1200|\n",
      "|1975|18.991770000000017| 9.378667670294366| 1200|\n",
      "|1976|18.690833333333327| 9.674307063981155| 1200|\n",
      "|1977| 19.14536916666667| 9.632771105391049| 1200|\n",
      "|1978|        18.9816575| 9.708024443419061| 1200|\n",
      "|1979|19.234882499999983| 9.534350362910384| 1200|\n",
      "|1980|19.068540833333326| 9.873375813771396| 1200|\n",
      "|1981| 19.11556833333333| 9.603616206610258| 1200|\n",
      "|1982| 19.06814916666664| 9.436904965330882| 1200|\n",
      "|1983| 19.19757250000001| 9.480068546136335| 1200|\n",
      "|1984|18.960731666666657| 9.777771553211203| 1200|\n",
      "|1985|18.997135833333324|  9.93774545724667| 1200|\n",
      "|1986| 19.04475583333334| 9.648435891402713| 1200|\n",
      "|1987|19.408555833333338| 9.811255051722874| 1200|\n",
      "|1988|19.352042499999996| 9.651373455300124| 1200|\n",
      "|1989| 19.22738083333334| 9.292349991315447| 1200|\n",
      "|1990|19.509549166666673| 9.166881675664248| 1200|\n",
      "|1991|19.271515000000022| 9.491201247596479| 1200|\n",
      "|1992| 19.09105416666665| 9.449028233282005| 1200|\n",
      "|1993| 19.17823333333332| 9.599866671677468| 1200|\n",
      "|1994| 19.47290249999999| 9.522091315576583| 1200|\n",
      "|1995| 19.43988833333332| 9.434941907162091| 1200|\n",
      "|1996|19.171846666666678| 9.670695029923676| 1200|\n",
      "|1997| 19.35016250000001| 9.419310061222717| 1200|\n",
      "|1998| 19.94603083333332| 9.442673223698746| 1200|\n",
      "|1999| 19.69895916666666| 9.301160388430498| 1200|\n",
      "|2000| 19.50624333333333| 9.599965222472576| 1200|\n",
      "|2001| 19.67935166666665| 9.573522305249242| 1200|\n",
      "|2002| 19.85568499999999| 9.398522301421481| 1200|\n",
      "|2003| 19.63019666666666| 9.611322320069826| 1200|\n",
      "|2004|19.672204166666653|  9.37990118832469| 1200|\n",
      "|2005|19.607239166666655| 9.749381468730121| 1200|\n",
      "|2006|19.793993333333333|  9.44772891191051| 1200|\n",
      "|2007| 19.85426999999999| 9.321853330124705| 1200|\n",
      "|2008|19.608778333333348| 9.389131979775447| 1200|\n",
      "|2009|19.833751666666675| 9.593257448875098| 1200|\n",
      "|2010|19.911734166666662| 9.888528815852785| 1200|\n",
      "|2011|19.549196666666685| 9.590372909856736| 1200|\n",
      "|2012|19.668239166666673| 9.843163358191623| 1200|\n",
      "+----+------------------+------------------+-----+\n",
      "\n"
     ]
    }
   ],
   "source": [
    "df10 = df9 \\\n",
    ".groupBy('year') \\\n",
    ".agg(avg('AverageTemperature').alias('temp_avg'),\n",
    "     stddev('AverageTemperature').alias('temp_stddev'),\n",
    "     count('*').alias('n_obs')) \\\n",
    ".orderBy('year')\n",
    "\n",
    "df10.show(300)"
   ]
  },
  {
   "cell_type": "code",
   "execution_count": 28,
   "metadata": {},
   "outputs": [],
   "source": [
    "# df2.filter(df2.n_obs > 11).count()\n",
    "# df.select('City').distinct().count()"
   ]
  },
  {
   "cell_type": "markdown",
   "metadata": {},
   "source": [
    "# Add confidence interval"
   ]
  },
  {
   "cell_type": "code",
   "execution_count": 29,
   "metadata": {},
   "outputs": [
    {
     "data": {
      "text/plain": [
       "1.959963984540054"
      ]
     },
     "execution_count": 29,
     "metadata": {},
     "output_type": "execute_result"
    }
   ],
   "source": [
    "alpha = 0.05\n",
    "z = abs(norm.ppf(1 - alpha / 2))\n",
    "z"
   ]
  },
  {
   "cell_type": "code",
   "execution_count": 30,
   "metadata": {},
   "outputs": [
    {
     "name": "stdout",
     "output_type": "stream",
     "text": [
      "+----+------------------+------------------+-----+------------------+------------------+\n",
      "|year|          temp_avg|       temp_stddev|n_obs|            ci_low|           ci_high|\n",
      "+----+------------------+------------------+-----+------------------+------------------+\n",
      "|1882|18.272409207161132|  9.50084419069272| 1200|17.734858219767716| 18.80996019455455|\n",
      "|1883|18.093464224872246| 9.899778079956812| 1200| 17.53334184258229|18.653586607162204|\n",
      "|1884|17.807999999999993| 9.718665688248104| 1200|17.258124827646135| 18.35787517235385|\n",
      "|1885|17.837688888888888| 9.942854655135987| 1200| 17.27512926470165|18.400248513076125|\n",
      "|1886|18.186228279386718| 9.770089904780974| 1200| 17.63344356154213|18.739012997231306|\n",
      "|1887|18.238346088435367| 9.760117121818272| 1200| 17.68612562353726|18.790566553333473|\n",
      "|1888|18.269254251700694|10.003167304238074| 1200|17.703282180848046|18.835226322553343|\n",
      "|1889|18.553466329966337| 9.933164512958289| 1200|17.991454967111572|19.115477692821102|\n",
      "|1890|18.503056444818874| 9.513457042607227| 1200|17.964791831260833|19.041321058376916|\n",
      "|1891|18.474513333333327| 9.589300889504235| 1200| 17.93195752901698|19.017069137649674|\n",
      "|1892| 18.40668916666667| 9.897445947623108| 1200|17.846698734760654|18.966679598572686|\n",
      "|1893|18.036146666666674| 9.927529091036035| 1200|17.474454151964547|  18.5978391813688|\n",
      "|1894|18.533093333333333| 9.504479302253294| 1200| 17.99533667392073|19.070849992745938|\n",
      "|1895|18.417725833333336| 9.836253638727014| 1200| 17.86119761861642|18.974254048050252|\n",
      "|1896|18.641295833333334| 9.851173754698996| 1200|18.083923449097185|19.198668217569484|\n",
      "|1897|18.668718333333334|  9.88620718219943| 1200| 18.10936378275842|19.228072883908247|\n",
      "|1898|18.779869782971623| 9.519489546511261| 1200|18.241263854645656| 19.31847571129759|\n",
      "|1899|18.806063333333327| 9.562905702620931| 1200| 18.26500094986325|19.347125716803404|\n",
      "|1900| 18.86027916666668| 9.766773394781929| 1200| 18.30768209459218|19.412876238741177|\n",
      "|1901|18.744460833333335| 9.816474989840009| 1200| 18.18905168046241| 19.29986998620426|\n",
      "+----+------------------+------------------+-----+------------------+------------------+\n",
      "only showing top 20 rows\n",
      "\n"
     ]
    }
   ],
   "source": [
    "df11 = df10 \\\n",
    ".withColumn('ci_low', df10.temp_avg - df10.temp_stddev / df10.n_obs**(1/2) * z) \\\n",
    ".withColumn('ci_high', df10.temp_avg + df10.temp_stddev / df10.n_obs**(1/2) * z)\n",
    "\n",
    "df11.show()"
   ]
  },
  {
   "cell_type": "markdown",
   "metadata": {},
   "source": [
    "## Plot entry of interest"
   ]
  },
  {
   "cell_type": "code",
   "execution_count": 31,
   "metadata": {},
   "outputs": [
    {
     "data": {
      "text/html": [
       "<div>\n",
       "<style scoped>\n",
       "    .dataframe tbody tr th:only-of-type {\n",
       "        vertical-align: middle;\n",
       "    }\n",
       "\n",
       "    .dataframe tbody tr th {\n",
       "        vertical-align: top;\n",
       "    }\n",
       "\n",
       "    .dataframe thead th {\n",
       "        text-align: right;\n",
       "    }\n",
       "</style>\n",
       "<table border=\"1\" class=\"dataframe\">\n",
       "  <thead>\n",
       "    <tr style=\"text-align: right;\">\n",
       "      <th></th>\n",
       "      <th>year</th>\n",
       "      <th>temp_avg</th>\n",
       "      <th>temp_stddev</th>\n",
       "      <th>n_obs</th>\n",
       "      <th>ci_low</th>\n",
       "      <th>ci_high</th>\n",
       "    </tr>\n",
       "  </thead>\n",
       "  <tbody>\n",
       "    <tr>\n",
       "      <th>0</th>\n",
       "      <td>1882</td>\n",
       "      <td>18.272409</td>\n",
       "      <td>9.500844</td>\n",
       "      <td>1200</td>\n",
       "      <td>17.734858</td>\n",
       "      <td>18.809960</td>\n",
       "    </tr>\n",
       "    <tr>\n",
       "      <th>1</th>\n",
       "      <td>1883</td>\n",
       "      <td>18.093464</td>\n",
       "      <td>9.899778</td>\n",
       "      <td>1200</td>\n",
       "      <td>17.533342</td>\n",
       "      <td>18.653587</td>\n",
       "    </tr>\n",
       "    <tr>\n",
       "      <th>2</th>\n",
       "      <td>1884</td>\n",
       "      <td>17.808000</td>\n",
       "      <td>9.718666</td>\n",
       "      <td>1200</td>\n",
       "      <td>17.258125</td>\n",
       "      <td>18.357875</td>\n",
       "    </tr>\n",
       "    <tr>\n",
       "      <th>3</th>\n",
       "      <td>1885</td>\n",
       "      <td>17.837689</td>\n",
       "      <td>9.942855</td>\n",
       "      <td>1200</td>\n",
       "      <td>17.275129</td>\n",
       "      <td>18.400249</td>\n",
       "    </tr>\n",
       "    <tr>\n",
       "      <th>4</th>\n",
       "      <td>1886</td>\n",
       "      <td>18.186228</td>\n",
       "      <td>9.770090</td>\n",
       "      <td>1200</td>\n",
       "      <td>17.633444</td>\n",
       "      <td>18.739013</td>\n",
       "    </tr>\n",
       "  </tbody>\n",
       "</table>\n",
       "</div>"
      ],
      "text/plain": [
       "   year   temp_avg  temp_stddev  n_obs     ci_low    ci_high\n",
       "0  1882  18.272409     9.500844   1200  17.734858  18.809960\n",
       "1  1883  18.093464     9.899778   1200  17.533342  18.653587\n",
       "2  1884  17.808000     9.718666   1200  17.258125  18.357875\n",
       "3  1885  17.837689     9.942855   1200  17.275129  18.400249\n",
       "4  1886  18.186228     9.770090   1200  17.633444  18.739013"
      ]
     },
     "execution_count": 31,
     "metadata": {},
     "output_type": "execute_result"
    }
   ],
   "source": [
    "df12 = df11.toPandas()\n",
    "df12.head()"
   ]
  },
  {
   "cell_type": "code",
   "execution_count": 34,
   "metadata": {},
   "outputs": [],
   "source": [
    "# stop the spark session to release resources\n",
    "spark.stop()"
   ]
  },
  {
   "cell_type": "code",
   "execution_count": 35,
   "metadata": {},
   "outputs": [
    {
     "data": {
      "text/html": [
       "<div>\n",
       "<style scoped>\n",
       "    .dataframe tbody tr th:only-of-type {\n",
       "        vertical-align: middle;\n",
       "    }\n",
       "\n",
       "    .dataframe tbody tr th {\n",
       "        vertical-align: top;\n",
       "    }\n",
       "\n",
       "    .dataframe thead th {\n",
       "        text-align: right;\n",
       "    }\n",
       "</style>\n",
       "<table border=\"1\" class=\"dataframe\">\n",
       "  <thead>\n",
       "    <tr style=\"text-align: right;\">\n",
       "      <th></th>\n",
       "      <th>year</th>\n",
       "      <th>temp_avg</th>\n",
       "      <th>temp_stddev</th>\n",
       "      <th>n_obs</th>\n",
       "      <th>ci_low</th>\n",
       "      <th>ci_high</th>\n",
       "      <th>date</th>\n",
       "    </tr>\n",
       "  </thead>\n",
       "  <tbody>\n",
       "    <tr>\n",
       "      <th>0</th>\n",
       "      <td>1882</td>\n",
       "      <td>18.272409</td>\n",
       "      <td>9.500844</td>\n",
       "      <td>1200</td>\n",
       "      <td>17.734858</td>\n",
       "      <td>18.809960</td>\n",
       "      <td>1882-01-01</td>\n",
       "    </tr>\n",
       "    <tr>\n",
       "      <th>1</th>\n",
       "      <td>1883</td>\n",
       "      <td>18.093464</td>\n",
       "      <td>9.899778</td>\n",
       "      <td>1200</td>\n",
       "      <td>17.533342</td>\n",
       "      <td>18.653587</td>\n",
       "      <td>1883-01-01</td>\n",
       "    </tr>\n",
       "    <tr>\n",
       "      <th>2</th>\n",
       "      <td>1884</td>\n",
       "      <td>17.808000</td>\n",
       "      <td>9.718666</td>\n",
       "      <td>1200</td>\n",
       "      <td>17.258125</td>\n",
       "      <td>18.357875</td>\n",
       "      <td>1884-01-01</td>\n",
       "    </tr>\n",
       "    <tr>\n",
       "      <th>3</th>\n",
       "      <td>1885</td>\n",
       "      <td>17.837689</td>\n",
       "      <td>9.942855</td>\n",
       "      <td>1200</td>\n",
       "      <td>17.275129</td>\n",
       "      <td>18.400249</td>\n",
       "      <td>1885-01-01</td>\n",
       "    </tr>\n",
       "    <tr>\n",
       "      <th>4</th>\n",
       "      <td>1886</td>\n",
       "      <td>18.186228</td>\n",
       "      <td>9.770090</td>\n",
       "      <td>1200</td>\n",
       "      <td>17.633444</td>\n",
       "      <td>18.739013</td>\n",
       "      <td>1886-01-01</td>\n",
       "    </tr>\n",
       "  </tbody>\n",
       "</table>\n",
       "</div>"
      ],
      "text/plain": [
       "   year   temp_avg  temp_stddev  n_obs     ci_low    ci_high       date\n",
       "0  1882  18.272409     9.500844   1200  17.734858  18.809960 1882-01-01\n",
       "1  1883  18.093464     9.899778   1200  17.533342  18.653587 1883-01-01\n",
       "2  1884  17.808000     9.718666   1200  17.258125  18.357875 1884-01-01\n",
       "3  1885  17.837689     9.942855   1200  17.275129  18.400249 1885-01-01\n",
       "4  1886  18.186228     9.770090   1200  17.633444  18.739013 1886-01-01"
      ]
     },
     "execution_count": 35,
     "metadata": {},
     "output_type": "execute_result"
    }
   ],
   "source": [
    "# Make a datetime colum for the x axis to ensure a gap will show on the graph where there are missing years\n",
    "df12['date'] = df12.apply(lambda row: datetime.datetime.strptime(str(int(row['year'])), '%Y'), axis=1)\n",
    "df12.head()"
   ]
  },
  {
   "cell_type": "code",
   "execution_count": 36,
   "metadata": {},
   "outputs": [
    {
     "data": {
      "text/plain": [
       "Text(0, 0.5, 'Global average temperature (C)')"
      ]
     },
     "execution_count": 36,
     "metadata": {},
     "output_type": "execute_result"
    },
    {
     "data": {
      "image/png": "[encoded data removed]",
      "text/plain": [
       "<Figure size 1600x800 with 1 Axes>"
      ]
     },
     "metadata": {},
     "output_type": "display_data"
    }
   ],
   "source": [
    "x = df12['date']\n",
    "y = df12['temp_avg']\n",
    "fig = figure(num=None, figsize=(20, 10), dpi=80, facecolor='w', edgecolor='k')\n",
    "fig.suptitle('Global average temperature estimate (with 95% confidence interval)')\n",
    "\n",
    "plt.fill_between(x, df12['ci_low'], df12['ci_high'], color = 'k',alpha = 0.05)\n",
    "plt.plot(x, y)\n",
    "plt.grid()\n",
    "plt.xlabel('Year')\n",
    "plt.ylabel('Global average temperature (C)')"
   ]
  }
 ],
 "metadata": {
  "kernelspec": {
   "display_name": "Python 3",
   "language": "python",
   "name": "python3"
  },
  "language_info": {
   "codemirror_mode": {
    "name": "ipython",
    "version": 3
   },
   "file_extension": ".py",
   "mimetype": "text/x-python",
   "name": "python",
   "nbconvert_exporter": "python",
   "pygments_lexer": "ipython3",
   "version": "3.6.8"
  }
 },
 "nbformat": 4,
 "nbformat_minor": 2
}
